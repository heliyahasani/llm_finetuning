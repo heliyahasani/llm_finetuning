{
 "cells": [
  {
   "cell_type": "code",
   "execution_count": 4,
   "metadata": {},
   "outputs": [],
   "source": [
    "import streamlit as st\n",
    "import pandas as pd\n",
    "import toml\n",
    "import os\n",
    "import json\n",
    "from streamlit.connections import SQLConnection\n",
    "\n",
    "st.markdown(\"# Load or Connect Your Data\")\n",
    "\n",
    "# Load the TOML file\n",
    "with open('/home/heliya/llm_finetuning/custom_llm/secrets.toml', 'r') as file:\n",
    "    secrets = toml.load(file)\n",
    "    \n",
    "section_names = secrets.keys()"
   ]
  },
  {
   "cell_type": "code",
   "execution_count": 26,
   "metadata": {},
   "outputs": [],
   "source": [
    "a = [section for section in section_names if section.find(\"sql\") != -1]"
   ]
  },
  {
   "cell_type": "code",
   "execution_count": 43,
   "metadata": {},
   "outputs": [
    {
     "data": {
      "text/plain": [
       "{'db_type': 'PostgreSQL',\n",
       " 'host': 'sfsdafgsd',\n",
       " 'port': 'fdsfdsf',\n",
       " 'database': 'sdafasdfsadf',\n",
       " 'user': 'fgsdfdf',\n",
       " 'password': 'gafdgfdg'}"
      ]
     },
     "execution_count": 43,
     "metadata": {},
     "output_type": "execute_result"
    }
   ],
   "source": [
    "secrets['sql.dasdsadasererw']"
   ]
  },
  {
   "cell_type": "code",
   "execution_count": 44,
   "metadata": {},
   "outputs": [
    {
     "ename": "OperationalError",
     "evalue": "invalid integer value \"fdsfdsf\" for connection option \"port\"\n",
     "output_type": "error",
     "traceback": [
      "\u001b[0;31m---------------------------------------------------------------------------\u001b[0m",
      "\u001b[0;31mOperationalError\u001b[0m                          Traceback (most recent call last)",
      "\u001b[1;32m/home/heliya/llm_finetuning/custom_llm/load_connect_data/read.ipynb Cell 4\u001b[0m line \u001b[0;36m4\n\u001b[1;32m      <a href='vscode-notebook-cell:/home/heliya/llm_finetuning/custom_llm/load_connect_data/read.ipynb#W3sZmlsZQ%3D%3D?line=0'>1</a>\u001b[0m \u001b[39mimport\u001b[39;00m \u001b[39mpsycopg2\u001b[39;00m\n\u001b[0;32m----> <a href='vscode-notebook-cell:/home/heliya/llm_finetuning/custom_llm/load_connect_data/read.ipynb#W3sZmlsZQ%3D%3D?line=3'>4</a>\u001b[0m conn \u001b[39m=\u001b[39m psycopg2\u001b[39m.\u001b[39;49mconnect(\n\u001b[1;32m      <a href='vscode-notebook-cell:/home/heliya/llm_finetuning/custom_llm/load_connect_data/read.ipynb#W3sZmlsZQ%3D%3D?line=4'>5</a>\u001b[0m    database\u001b[39m=\u001b[39;49msecrets[\u001b[39m'\u001b[39;49m\u001b[39msql.dasdsadasererw\u001b[39;49m\u001b[39m'\u001b[39;49m][\u001b[39m\"\u001b[39;49m\u001b[39mdatabase\u001b[39;49m\u001b[39m\"\u001b[39;49m],\n\u001b[1;32m      <a href='vscode-notebook-cell:/home/heliya/llm_finetuning/custom_llm/load_connect_data/read.ipynb#W3sZmlsZQ%3D%3D?line=5'>6</a>\u001b[0m     user\u001b[39m=\u001b[39;49msecrets[\u001b[39m'\u001b[39;49m\u001b[39msql.dasdsadasererw\u001b[39;49m\u001b[39m'\u001b[39;49m][\u001b[39m\"\u001b[39;49m\u001b[39muser\u001b[39;49m\u001b[39m\"\u001b[39;49m],\n\u001b[1;32m      <a href='vscode-notebook-cell:/home/heliya/llm_finetuning/custom_llm/load_connect_data/read.ipynb#W3sZmlsZQ%3D%3D?line=6'>7</a>\u001b[0m     password\u001b[39m=\u001b[39;49msecrets[\u001b[39m'\u001b[39;49m\u001b[39msql.dasdsadasererw\u001b[39;49m\u001b[39m'\u001b[39;49m][\u001b[39m\"\u001b[39;49m\u001b[39mpassword\u001b[39;49m\u001b[39m\"\u001b[39;49m],\n\u001b[1;32m      <a href='vscode-notebook-cell:/home/heliya/llm_finetuning/custom_llm/load_connect_data/read.ipynb#W3sZmlsZQ%3D%3D?line=7'>8</a>\u001b[0m     host\u001b[39m=\u001b[39;49msecrets[\u001b[39m'\u001b[39;49m\u001b[39msql.dasdsadasererw\u001b[39;49m\u001b[39m'\u001b[39;49m][\u001b[39m\"\u001b[39;49m\u001b[39mhost\u001b[39;49m\u001b[39m\"\u001b[39;49m],\n\u001b[1;32m      <a href='vscode-notebook-cell:/home/heliya/llm_finetuning/custom_llm/load_connect_data/read.ipynb#W3sZmlsZQ%3D%3D?line=8'>9</a>\u001b[0m     port\u001b[39m=\u001b[39;49m secrets[\u001b[39m'\u001b[39;49m\u001b[39msql.dasdsadasererw\u001b[39;49m\u001b[39m'\u001b[39;49m][\u001b[39m\"\u001b[39;49m\u001b[39mport\u001b[39;49m\u001b[39m\"\u001b[39;49m]\n\u001b[1;32m     <a href='vscode-notebook-cell:/home/heliya/llm_finetuning/custom_llm/load_connect_data/read.ipynb#W3sZmlsZQ%3D%3D?line=9'>10</a>\u001b[0m )\n",
      "File \u001b[0;32m~/micromamba/envs/streamlit/lib/python3.9/site-packages/psycopg2/__init__.py:122\u001b[0m, in \u001b[0;36mconnect\u001b[0;34m(dsn, connection_factory, cursor_factory, **kwargs)\u001b[0m\n\u001b[1;32m    119\u001b[0m     kwasync[\u001b[39m'\u001b[39m\u001b[39masync_\u001b[39m\u001b[39m'\u001b[39m] \u001b[39m=\u001b[39m kwargs\u001b[39m.\u001b[39mpop(\u001b[39m'\u001b[39m\u001b[39masync_\u001b[39m\u001b[39m'\u001b[39m)\n\u001b[1;32m    121\u001b[0m dsn \u001b[39m=\u001b[39m _ext\u001b[39m.\u001b[39mmake_dsn(dsn, \u001b[39m*\u001b[39m\u001b[39m*\u001b[39mkwargs)\n\u001b[0;32m--> 122\u001b[0m conn \u001b[39m=\u001b[39m _connect(dsn, connection_factory\u001b[39m=\u001b[39;49mconnection_factory, \u001b[39m*\u001b[39;49m\u001b[39m*\u001b[39;49mkwasync)\n\u001b[1;32m    123\u001b[0m \u001b[39mif\u001b[39;00m cursor_factory \u001b[39mis\u001b[39;00m \u001b[39mnot\u001b[39;00m \u001b[39mNone\u001b[39;00m:\n\u001b[1;32m    124\u001b[0m     conn\u001b[39m.\u001b[39mcursor_factory \u001b[39m=\u001b[39m cursor_factory\n",
      "\u001b[0;31mOperationalError\u001b[0m: invalid integer value \"fdsfdsf\" for connection option \"port\"\n"
     ]
    }
   ],
   "source": [
    "import psycopg2\n",
    "\n",
    "\n",
    "conn = psycopg2.connect(\n",
    "   database=secrets['sql.dasdsadasererw'][\"database\"],\n",
    "    user=secrets['sql.dasdsadasererw'][\"user\"],\n",
    "    password=secrets['sql.dasdsadasererw'][\"password\"],\n",
    "    host=secrets['sql.dasdsadasererw'][\"host\"],\n",
    "    port= secrets['sql.dasdsadasererw'][\"port\"]\n",
    ")\n",
    "cursor = conn.cursor()\n",
    "# Display whole table\n",
    "cursor.execute(\"SELECT * FROM WORKER\")\n",
    "print(cursor.fetchall())\n",
    " \n",
    "# Commit your changes in the database\n",
    "conn.commit()\n",
    " \n",
    "#Closing the connection\n",
    "conn.close()"
   ]
  },
  {
   "cell_type": "code",
   "execution_count": 38,
   "metadata": {},
   "outputs": [
    {
     "data": {
      "text/plain": [
       "'MySQL'"
      ]
     },
     "execution_count": 38,
     "metadata": {},
     "output_type": "execute_result"
    }
   ],
   "source": [
    "secrets[\"sql.dasdsadas\"][\"db_type\"]"
   ]
  },
  {
   "cell_type": "code",
   "execution_count": 39,
   "metadata": {},
   "outputs": [
    {
     "data": {
      "text/plain": [
       "['sql.dasdsadas']"
      ]
     },
     "execution_count": 39,
     "metadata": {},
     "output_type": "execute_result"
    }
   ],
   "source": [
    "sql = [section for section in section_names if section.find(\"sql\") != -1]\n",
    "db_type =[name for name in sql if secrets[name][\"db_type\"] == \"MySQL\"]\n",
    "db_type"
   ]
  },
  {
   "cell_type": "code",
   "execution_count": null,
   "metadata": {},
   "outputs": [],
   "source": []
  }
 ],
 "metadata": {
  "kernelspec": {
   "display_name": "streamlit",
   "language": "python",
   "name": "python3"
  },
  "language_info": {
   "codemirror_mode": {
    "name": "ipython",
    "version": 3
   },
   "file_extension": ".py",
   "mimetype": "text/x-python",
   "name": "python",
   "nbconvert_exporter": "python",
   "pygments_lexer": "ipython3",
   "version": "3.9.18"
  }
 },
 "nbformat": 4,
 "nbformat_minor": 2
}
