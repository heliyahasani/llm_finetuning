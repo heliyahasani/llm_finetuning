{
 "cells": [
  {
   "cell_type": "code",
   "execution_count": 6,
   "metadata": {},
   "outputs": [],
   "source": [
    "from google.cloud import storage"
   ]
  },
  {
   "cell_type": "code",
   "execution_count": 5,
   "metadata": {},
   "outputs": [],
   "source": [
    "\n",
    "def retrieve_object_from_bucket(project_id, bucket_name, object_name, destination_file_path, service_account_file):\n",
    "    \n",
    "    \"\"\"\n",
    "        project_id (str): Your Google Cloud project ID.\n",
    "        bucket_name (str): The name of the GCS bucket.\n",
    "        object_name (str): The name of the object you want to retrieve.\n",
    "        destination_file_path (str): The path to save the retrieved object locally.\n",
    "    \"\"\"\n",
    "    \n",
    "    try:\n",
    "        # Initialize a GCS client\n",
    "        client = storage.Client.from_service_account_json(service_account_file)\n",
    "\n",
    "        # Get the bucket\n",
    "        bucket = client.get_bucket(bucket_name)\n",
    "\n",
    "        # Get the blob (object) from the bucket\n",
    "        blob = bucket.blob(object_name)\n",
    "\n",
    "        # Download the blob to the specified file path\n",
    "        blob.download_to_filename(destination_file_path)\n",
    "\n",
    "        print(f\"Object '{object_name}' retrieved and saved to '{destination_file_path}'.\")\n",
    "\n",
    "    except Exception as e:\n",
    "        print(f\"Error: {e}\")\n"
   ]
  },
  {
   "cell_type": "code",
   "execution_count": 7,
   "metadata": {},
   "outputs": [
    {
     "data": {
      "text/plain": [
       "'c:\\\\Users\\\\HH\\\\Desktop\\\\project\\\\llm_finetuning\\\\custom_llm\\\\load_connect_data'"
      ]
     },
     "execution_count": 7,
     "metadata": {},
     "output_type": "execute_result"
    }
   ],
   "source": [
    "pwd"
   ]
  },
  {
   "cell_type": "code",
   "execution_count": 11,
   "metadata": {},
   "outputs": [
    {
     "ename": "SyntaxError",
     "evalue": "unterminated string literal (detected at line 5) (3223573308.py, line 5)",
     "output_type": "error",
     "traceback": [
      "\u001b[1;36m  Cell \u001b[1;32mIn[11], line 5\u001b[1;36m\u001b[0m\n\u001b[1;33m    r'c:\\Users\\HH\\Desktop\\project\\llm_finetuning\\custom_llm\\',  # Using raw string\u001b[0m\n\u001b[1;37m    ^\u001b[0m\n\u001b[1;31mSyntaxError\u001b[0m\u001b[1;31m:\u001b[0m unterminated string literal (detected at line 5)\n"
     ]
    }
   ],
   "source": [
    "retrieve_object_from_bucket(\n",
    "    'methodical-ace-407807',\n",
    "    \"heracules\",\n",
    "    \"train_essays_7_prompts.csv\",\n",
    "    r\"c:\\Users\\HH\\Desktop\\project\\llm_finetuning\\custom_llm\\\",  # Using raw string\n",
    "    r'C:\\Users\\HH\\Desktop\\project\\llm_finetuning\\custom_llm\\pages\\methodical-ace-407807-e2562710af55.json'  # Using raw string\n",
    ")\n"
   ]
  },
  {
   "cell_type": "code",
   "execution_count": null,
   "metadata": {},
   "outputs": [],
   "source": []
  }
 ],
 "metadata": {
  "kernelspec": {
   "display_name": "streamlit",
   "language": "python",
   "name": "python3"
  },
  "language_info": {
   "codemirror_mode": {
    "name": "ipython",
    "version": 3
   },
   "file_extension": ".py",
   "mimetype": "text/x-python",
   "name": "python",
   "nbconvert_exporter": "python",
   "pygments_lexer": "ipython3",
   "version": "3.10.13"
  }
 },
 "nbformat": 4,
 "nbformat_minor": 2
}
